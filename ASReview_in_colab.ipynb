{
 "cells": [
  {
   "cell_type": "markdown",
   "metadata": {},
   "source": [
    "# Launch a new instance of ASReview\n",
    "\n",
    "Make sure to add your own authenication token from [ngrok.com](https://dashboard.ngrok.com/auth) to the cell below.\n",
    "\n",
    "This notebook can be found at\n",
    "[JTeijema/asreview-google-colab](https://github.com/JTeijema/asreview-google-colab).\n",
    "This page has instructions on how to use this notebook.\n",
    "\n",
    "The link to the launched instance can be found at [Start ASReview](#start)."
   ]
  },
  {
   "cell_type": "code",
   "execution_count": null,
   "metadata": {},
   "outputs": [],
   "source": [
    "# Get your authtoken from https://dashboard.ngrok.com/auth\n",
    "NGROK_AUTH_TOKEN = \"\" #@param {type:\"string\"}\n",
    "set_password_access = False #@param {type:\"boolean\"}\n",
    "username = \"asreview\" #@param {type:\"string\"}\n",
    "password = \"colab\" #@param {type:\"string\"}"
   ]
  },
  {
   "cell_type": "markdown",
   "metadata": {},
   "source": [
    "## Install ASReview and dependencies"
   ]
  },
  {
   "cell_type": "code",
   "execution_count": null,
   "metadata": {},
   "outputs": [],
   "source": [
    "# installing packages... Colab has a lot of packages pre-installed and might\n",
    "# throw an exception if you try to install new packages. This can be ignored.\n",
    "\n",
    "%pip install pyngrok --quiet\n",
    "%pip install --pre --upgrade asreview --quiet\n",
    "\n",
    "# remove sample folder\n",
    "!rm -r sample_data"
   ]
  },
  {
   "cell_type": "code",
   "execution_count": null,
   "metadata": {},
   "outputs": [],
   "source": [
    "# imports\n",
    "from pyngrok import ngrok\n",
    "import os\n",
    "import asreview"
   ]
  },
  {
   "cell_type": "markdown",
   "metadata": {},
   "source": [
    "## Mount a google drive\n",
    "To store the data and results of ASReview on your google drive, you will need to\n",
    "mount your drive. The cells below mount your drive to the folder\n",
    "`/content/drive/MyDrive/ASReview/`."
   ]
  },
  {
   "cell_type": "code",
   "execution_count": null,
   "metadata": {},
   "outputs": [],
   "source": [
    "# Mount your Google Drive\n",
    "from google.colab import drive\n",
    "drive.mount('/content/drive/')\n",
    "! mkdir /content/drive/MyDrive/ASReview-colab"
   ]
  },
  {
   "cell_type": "code",
   "execution_count": null,
   "metadata": {},
   "outputs": [],
   "source": [
    "# change ASReview project path to user files\n",
    "os.environ['ASREVIEW_PATH'] = \"/content/drive/MyDrive/ASReview-colab\"\n",
    "\n",
    "# if you do not want to use the google drive, you can use the following line instead\n",
    "# os.environ['ASREVIEW_PATH'] = \"/content/asreview\""
   ]
  },
  {
   "cell_type": "markdown",
   "metadata": {},
   "source": [
    "## Set up ASReview\n",
    "The cell below will set up ngrok and activate a tunnel for ASReview. "
   ]
  },
  {
   "cell_type": "code",
   "execution_count": null,
   "metadata": {},
   "outputs": [],
   "source": [
    "# set ngrok authtoken\n",
    "ngrok.set_auth_token(NGROK_AUTH_TOKEN)"
   ]
  },
  {
   "cell_type": "code",
   "execution_count": null,
   "metadata": {},
   "outputs": [],
   "source": [
    "# Terminate open tunnels if exist\n",
    "ngrok.kill()"
   ]
  },
  {
   "cell_type": "code",
   "execution_count": null,
   "metadata": {},
   "outputs": [],
   "source": [
    "# Connect to the tunnel\n",
    "if set_password_access:\n",
    "    session = ngrok.connect(port=\"80\", auth=username+\":\"+password)\n",
    "else:\n",
    "    session = ngrok.connect(port=\"80\")"
   ]
  },
  {
   "cell_type": "markdown",
   "metadata": {},
   "source": [
    "<a name=\"start\"></a>\n",
    "## Start ASReview\n",
    "The last cell will continue to run for as long as ASReview is active.\n",
    "\n",
    "The ASReview session can be opened by clicking on the link in cell below. The\n",
    "output of this cell will look like this: `Public URL:\n",
    "http://xx-xx-xx-xx.ngrok.io/`.\n",
    "\n",
    "If prompted, click `visit site`."
   ]
  },
  {
   "cell_type": "code",
   "execution_count": null,
   "metadata": {},
   "outputs": [],
   "source": [
    "# Get the public URL\n",
    "print(\"Public URL:\", session.public_url)"
   ]
  },
  {
   "cell_type": "code",
   "execution_count": null,
   "metadata": {},
   "outputs": [],
   "source": [
    "!asreview lab --port 80"
   ]
  },
  {
   "cell_type": "markdown",
   "metadata": {},
   "source": [
    "## Import ASReview files\n",
    "Google blocks directly injecting files through the upload. This means that you\n",
    "cannot upload `.asreview` files to ASReview. If you want to upload a project, we\n",
    "will need to extract the file to the `ASReview-colab` folder. To use the cell\n",
    "below, remove the `%%script echo... line and run the cell`. This will\n",
    "start a file upload dialog. Select the `.asreview` file you want to upload and \n",
    "click `Open`. The file will be extracted to the `ASReview-colab` folder. You can\n",
    "then open the project in ASReview.\n",
    "\n",
    ">Note: the .asreview file should have the same name as the project itself, or ASReview will not be able to access the project.\n",
    "\n",
    "Remember, to run any cell, you will first need to close the cell running ASReview."
   ]
  },
  {
   "cell_type": "code",
   "execution_count": null,
   "metadata": {},
   "outputs": [],
   "source": [
    "# extra imports\n",
    "from google.colab import files\n",
    "import zipfile\n",
    "from pathlib import Path"
   ]
  },
  {
   "cell_type": "code",
   "execution_count": null,
   "metadata": {},
   "outputs": [],
   "source": [
    "%%script echo To use this cell, remove this line\n",
    "\n",
    "# Upload your file to the runtime\n",
    "last_uploaded = list(files.upload().keys())[-1]\n",
    "print(\"Uploaded file:\", last_uploaded)\n",
    "\n",
    "extract_path = \"/content/drive/MyDrive/ASReview-colab/\"+ Path(last_uploaded).stem\n",
    "\n",
    "with zipfile.ZipFile(last_uploaded, 'r') as zip_ref:\n",
    "    print(\"Extracting file...\")\n",
    "    zip_ref.extractall(extract_path)\n",
    "\n",
    "print(\"Your project has been extracted to the project folder and should be available in ASReview.\")\n",
    "print(\"Removing left over file...\")\n",
    "! rm $last_uploaded"
   ]
  }
 ],
 "metadata": {
  "kernelspec": {
   "display_name": "Python 3",
   "language": "python",
   "name": "python3"
  },
  "language_info": {
   "name": "python",
   "version": "3.9.8 (tags/v3.9.8:bb3fdcf, Nov  5 2021, 20:48:33) [MSC v.1929 64 bit (AMD64)]"
  },
  "orig_nbformat": 4,
  "vscode": {
   "interpreter": {
    "hash": "a403dcd512074346898079cc883c404208a9bee461a652a43c210c2e7ae3734d"
   }
  }
 },
 "nbformat": 4,
 "nbformat_minor": 2
}
