{
 "cells": [
  {
   "cell_type": "markdown",
   "metadata": {},
   "source": [
    "# Launch a new instance of ASReview\n",
    "\n",
    "Make sure to add your own authenication token from [ngrok.com](https://dashboard.ngrok.com/auth) to the cell below.\n",
    "\n",
    "ASReview can be opened using the link found in the output of the cell near the\n",
    "end of the notebook."
   ]
  },
  {
   "cell_type": "code",
   "execution_count": null,
   "metadata": {},
   "outputs": [],
   "source": [
    "# Get your authtoken from https://dashboard.ngrok.com/auth\n",
    "NGROK_AUTH_TOKEN = \"\" #@param {type:\"string\"}"
   ]
  },
  {
   "cell_type": "markdown",
   "metadata": {},
   "source": [
    "## Install ASReview and dependencies"
   ]
  },
  {
   "cell_type": "code",
   "execution_count": null,
   "metadata": {},
   "outputs": [],
   "source": [
    "# installing packages... Colab has a lot of packages pre-installed and might\n",
    "# throw an exception if you try to install new packages. This can be ignored.\n",
    "\n",
    "!pip install pyngrok --quiet\n",
    "!pip install --pre --upgrade asreview --quiet\n",
    "\n",
    "# remove sample folder\n",
    "!rm -r sample_data"
   ]
  },
  {
   "cell_type": "code",
   "execution_count": null,
   "metadata": {},
   "outputs": [],
   "source": [
    "# imports\n",
    "from pyngrok import ngrok\n",
    "import os\n",
    "import asreview\n",
    "import ipywidgets as widgets\n",
    "from IPython.display import display, Javascript"
   ]
  },
  {
   "cell_type": "markdown",
   "metadata": {},
   "source": [
    "## Mount a google drive\n",
    "To store the data and results of ASReview on your google drive, you will need to\n",
    "mount your drive. The cells below mount your drive to the folder\n",
    "`/content/drive/MyDrive/ASReview/`."
   ]
  },
  {
   "cell_type": "code",
   "execution_count": null,
   "metadata": {},
   "outputs": [],
   "source": [
    "# Mount your Google Drive\n",
    "from google.colab import drive\n",
    "drive.mount('/content/drive/')\n",
    "! mkdir /content/drive/MyDrive/ASReview-colab"
   ]
  },
  {
   "cell_type": "code",
   "execution_count": null,
   "metadata": {},
   "outputs": [],
   "source": [
    "# change ASReview project path to user files\n",
    "os.environ['ASREVIEW_PATH'] = \"/content/drive/MyDrive/ASReview-colab\""
   ]
  },
  {
   "cell_type": "code",
   "execution_count": null,
   "metadata": {},
   "outputs": [],
   "source": [
    "# if you do not want to use the google drive, you can use the following line\n",
    "# os.environ['ASREVIEW_PATH'] = \"/content/asreview\""
   ]
  },
  {
   "cell_type": "code",
   "execution_count": null,
   "metadata": {},
   "outputs": [],
   "source": [
    "# review the path\n",
    "asreview.asreview_path()"
   ]
  },
  {
   "cell_type": "markdown",
   "metadata": {},
   "source": [
    "## Run ngrok and ASReview\n",
    "The cell below will start ngrok and ASReview. The last cell will continue to run\n",
    "for as long as ASReview is active. To launch ASReview, click on the ngrok link\n",
    "formatted like this: `http://xx-xx-xx-xx-xx.ngrok.io` which can be found in the\n",
    "output of the second to last cell."
   ]
  },
  {
   "cell_type": "code",
   "execution_count": null,
   "metadata": {},
   "outputs": [],
   "source": [
    "# set ngrok authtoken\n",
    "ngrok.set_auth_token(NGROK_AUTH_TOKEN)"
   ]
  },
  {
   "cell_type": "code",
   "execution_count": null,
   "metadata": {},
   "outputs": [],
   "source": [
    "# Terminate open tunnels if exist\n",
    "ngrok.kill()"
   ]
  },
  {
   "cell_type": "code",
   "execution_count": null,
   "metadata": {},
   "outputs": [],
   "source": [
    "# Connect to the tunnel\n",
    "session = ngrok.connect(port=\"80\")"
   ]
  },
  {
   "cell_type": "code",
   "execution_count": null,
   "metadata": {},
   "outputs": [],
   "source": [
    "# Get the public URL\n",
    "print(\"Public URL:\", session.public_url)"
   ]
  },
  {
   "cell_type": "code",
   "execution_count": null,
   "metadata": {},
   "outputs": [],
   "source": [
    "# Create a button to open the link\n",
    "out = widgets.Output()\n",
    "\n",
    "def window_open_button(url):\n",
    "    with out:\n",
    "        display(Javascript(f'window.open(\"{url.tooltip}\");'))\n",
    "\n",
    "ss = widgets.Button(description=\"Launch ASReview\", tooltip=session.public_url)\n",
    "ss.on_click(window_open_button)\n",
    "\n",
    "with out:\n",
    "    display(ss)\n",
    "out"
   ]
  },
  {
   "cell_type": "code",
   "execution_count": null,
   "metadata": {},
   "outputs": [],
   "source": [
    "!asreview lab --port 80"
   ]
  }
 ],
 "metadata": {
  "kernelspec": {
   "display_name": "Python 3",
   "language": "python",
   "name": "python3"
  },
  "language_info": {
   "name": "python",
   "version": "3.9.8 (tags/v3.9.8:bb3fdcf, Nov  5 2021, 20:48:33) [MSC v.1929 64 bit (AMD64)]"
  },
  "orig_nbformat": 4,
  "vscode": {
   "interpreter": {
    "hash": "a403dcd512074346898079cc883c404208a9bee461a652a43c210c2e7ae3734d"
   }
  }
 },
 "nbformat": 4,
 "nbformat_minor": 2
}
