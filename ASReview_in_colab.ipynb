{
 "cells": [
  {
   "cell_type": "markdown",
   "metadata": {},
   "source": [
    "# Launch a new instance of ASReview\n",
    "\n",
    "Make sure to add your own authenication token from ngrok.com to the cell below.\n",
    "\n",
    "ASReview can be opened using the link found in the output of the cell near the\n",
    "end of the notebook.\n",
    "\n",
    "[![Open In Colab](https://colab.research.google.com/assets/colab-badge.svg)](https://colab.research.google.com/github/JTeijema/ASReview-Google-Colab/blob/main/ASReview_in_colab.ipynb)"
   ]
  },
  {
   "cell_type": "code",
   "execution_count": null,
   "metadata": {},
   "outputs": [],
   "source": [
    "# Get your authtoken from https://dashboard.ngrok.com/auth\n",
    "NGROK_AUTH_TOKEN = \"\""
   ]
  },
  {
   "cell_type": "markdown",
   "metadata": {},
   "source": [
    "## Install ASReview and dependencies"
   ]
  },
  {
   "cell_type": "code",
   "execution_count": null,
   "metadata": {},
   "outputs": [],
   "source": [
    "# installing packages... Colab has a lot of packages pre-installed and might\n",
    "# throw an exception if you try to install new packages. This can be ignored.\n",
    "\n",
    "!pip install pyngrok --quiet\n",
    "!pip install --pre --upgrade asreview --quiet\n",
    "\n",
    "# remove sample folder\n",
    "!rm -r sample_data"
   ]
  },
  {
   "cell_type": "code",
   "execution_count": null,
   "metadata": {},
   "outputs": [],
   "source": [
    "# imports\n",
    "from pyngrok import ngrok\n",
    "import os\n",
    "import asreview"
   ]
  },
  {
   "cell_type": "markdown",
   "metadata": {},
   "source": [
    "## Mount a google drive\n",
    "To store the data and results of ASReview on your google drive, you will need to\n",
    "mount your drive. The cells below mount your drive to the folder\n",
    "`/content/drive/MyDrive/ASReview/`."
   ]
  },
  {
   "cell_type": "code",
   "execution_count": null,
   "metadata": {},
   "outputs": [],
   "source": [
    "# Mount your Google Drive\n",
    "from google.colab import drive\n",
    "drive.mount('/content/drive/')\n",
    "! mkdir /content/drive/MyDrive/ASReview"
   ]
  },
  {
   "cell_type": "code",
   "execution_count": null,
   "metadata": {},
   "outputs": [],
   "source": [
    "# change ASReview project path to user files\n",
    "os.environ['ASREVIEW_PATH'] = \"/content/drive/MyDrive/ASReview\""
   ]
  },
  {
   "cell_type": "code",
   "execution_count": null,
   "metadata": {},
   "outputs": [],
   "source": [
    "# if you do not want to use the google drive, you can use the following line\n",
    "# os.environ['ASREVIEW_PATH'] = \"/content/asreview\""
   ]
  },
  {
   "cell_type": "code",
   "execution_count": null,
   "metadata": {},
   "outputs": [],
   "source": [
    "# review the path\n",
    "asreview.asreview_path()"
   ]
  },
  {
   "cell_type": "markdown",
   "metadata": {},
   "source": [
    "## Run ngrok and ASReview\n",
    "The cell below will start ngrok and ASReview. The last cell will continue to run\n",
    "for as long as ASReview is active. To launch ASReview, click on the ngrok link;\n",
    "`http://xx-xx-xx-xx-xx.ngrok.io`."
   ]
  },
  {
   "cell_type": "code",
   "execution_count": null,
   "metadata": {},
   "outputs": [],
   "source": [
    "# set ngrok authtoken\n",
    "ngrok.set_auth_token(NGROK_AUTH_TOKEN)"
   ]
  },
  {
   "cell_type": "code",
   "execution_count": null,
   "metadata": {},
   "outputs": [],
   "source": [
    "# Terminate open tunnels if exist\n",
    "ngrok.kill()"
   ]
  },
  {
   "cell_type": "code",
   "execution_count": null,
   "metadata": {},
   "outputs": [],
   "source": [
    "# Connect to the tunnel\n",
    "public_url = ngrok.connect(port=\"80\", proto=\"http\")"
   ]
  },
  {
   "cell_type": "code",
   "execution_count": null,
   "metadata": {},
   "outputs": [],
   "source": [
    "print(\"Click the link below to access your ASReview instance.\\n\")\n",
    "print(\"Tracking URL:\", public_url)"
   ]
  },
  {
   "cell_type": "code",
   "execution_count": null,
   "metadata": {},
   "outputs": [],
   "source": [
    "!asreview lab --port 80"
   ]
  }
 ],
 "metadata": {
  "kernelspec": {
   "display_name": "Python 3",
   "language": "python",
   "name": "python3"
  },
  "language_info": {
   "name": "python",
   "version": "3.9.8 (tags/v3.9.8:bb3fdcf, Nov  5 2021, 20:48:33) [MSC v.1929 64 bit (AMD64)]"
  },
  "orig_nbformat": 4,
  "vscode": {
   "interpreter": {
    "hash": "a403dcd512074346898079cc883c404208a9bee461a652a43c210c2e7ae3734d"
   }
  }
 },
 "nbformat": 4,
 "nbformat_minor": 2
}
